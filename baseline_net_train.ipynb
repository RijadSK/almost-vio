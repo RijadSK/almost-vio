{
 "cells": [
  {
   "attachments": {},
   "cell_type": "markdown",
   "metadata": {},
   "source": [
    "# Almost Visual Inertial Odometry"
   ]
  },
  {
   "attachments": {},
   "cell_type": "markdown",
   "metadata": {},
   "source": [
    "# Imports"
   ]
  },
  {
   "cell_type": "code",
   "execution_count": 1,
   "metadata": {},
   "outputs": [],
   "source": [
    "import torch\n",
    "import torch.nn as nn\n",
    "from collections import OrderedDict\n",
    "import torch.nn.functional as F\n",
    "import torch.optim as optim\n",
    "from torchvision.models import *\n",
    "from torchvision.models.resnet import BasicBlock\n",
    "from torch.utils.data import DataLoader\n",
    "from tqdm import tqdm\n",
    "from  matplotlib import pyplot as plt\n",
    "from matplotlib.image import imread\n",
    "import pandas as pd\n",
    "import numpy as np"
   ]
  },
  {
   "attachments": {},
   "cell_type": "markdown",
   "metadata": {},
   "source": [
    "# Constants"
   ]
  },
  {
   "cell_type": "code",
   "execution_count": 2,
   "metadata": {},
   "outputs": [],
   "source": [
    "SEED = 20197\n",
    "BATCH_SIZE = 32\n",
    "TEST_BATCH_SIZE = 32\n",
    "GAMMA = 0.1   # torch default\n",
    "LR=0.001 \n",
    "EPOCHS = 2"
   ]
  },
  {
   "cell_type": "code",
   "execution_count": 3,
   "metadata": {},
   "outputs": [],
   "source": [
    "torch.manual_seed(SEED)\n",
    "np.random.seed(SEED)"
   ]
  },
  {
   "attachments": {},
   "cell_type": "markdown",
   "metadata": {},
   "source": [
    "# Device"
   ]
  },
  {
   "cell_type": "code",
   "execution_count": 4,
   "metadata": {},
   "outputs": [
    {
     "name": "stdout",
     "output_type": "stream",
     "text": [
      "Available cuda: True\n"
     ]
    }
   ],
   "source": [
    "available_cuda = torch.cuda.is_available()\n",
    "print(f\"Available cuda: {available_cuda}\")\n",
    "\n",
    "device = torch.device(\"cuda\" if available_cuda else \"cpu\")"
   ]
  },
  {
   "attachments": {},
   "cell_type": "markdown",
   "metadata": {},
   "source": [
    "# Dataset"
   ]
  },
  {
   "cell_type": "code",
   "execution_count": 5,
   "metadata": {},
   "outputs": [],
   "source": [
    "class AdvioDataset(torch.utils.data.Dataset):\n",
    "      def __init__(self, frames, inertials, labels, inertials_buffer, choose_split=None, split={'train':0.6, 'val':0.2, 'test':0.2}):\n",
    "            if choose_split is None:\n",
    "                  self.frames = frames\n",
    "                  self.inertials = inertials\n",
    "                  self.labels = labels\n",
    "                  self.inertials_buffer = inertials_buffer\n",
    "            else:\n",
    "                  assert split['train'] + split['val'] + split['test'] == 1\n",
    "                  length = frames.shape[0]\n",
    "                  if choose_split == \"train\":\n",
    "                        self.frames = frames[:round(split['train']*length)]\n",
    "                        self.inertials = inertials[:round(split['train']*length)]\n",
    "                        self.labels = labels[:round(split['train']*length)]\n",
    "                        self.inertials_buffer = inertials_buffer[:round(split['train']*length)]\n",
    "                  elif choose_split == \"val\":\n",
    "                        self.frames = frames[round(split['train']*length):-round(split['test']*length)]\n",
    "                        self.inertials = inertials[round(split['train']*length):-round(split['test']*length)]\n",
    "                        self.labels = labels[round(split['train']*length):-round(split['test']*length)]\n",
    "                        self.inertials_buffer = inertials_buffer[round(split['train']*length):-round(split['test']*length)]\n",
    "                  elif choose_split == \"test\":\n",
    "                        self.frames = frames[-round(split['test']*length):]\n",
    "                        self.inertials = inertials[-round(split['test']*length):]\n",
    "                        self.labels = labels[-round(split['test']*length):]\n",
    "                        self.inertials_buffer = inertials_buffer[-round(split['test']*length):]\n",
    "                  else:\n",
    "                        raise Exception(f\"The split name '{choose_split}' doesn't exists\")\n",
    "\n",
    "      def __len__(self):\n",
    "            return len(self.frames) - 1\n",
    "\n",
    "      def __getitem__(self, index):\n",
    "\n",
    "            # load sample of frames\n",
    "            sample_frame = self.frames[index + 1] - self.frames[index]\n",
    "            sample_frame = torch.moveaxis(sample_frame, -1, 0)\n",
    "\n",
    "            # build buffer sample of inertials\n",
    "            sample_inertials_buffer = self.inertials_buffer[index + 1]\n",
    "\n",
    "            # load labels\n",
    "            label_odometry = self.labels[index + 1]\n",
    "\n",
    "            # load inertials\n",
    "            label_inertial = self.inertials[index + 1]\n",
    "\n",
    "            return sample_frame, sample_inertials_buffer, label_odometry, label_inertial\n",
    "\n",
    "\n",
    "frames = torch.Tensor(np.load(\"./data/advio-01/iphone/frames.npy\"))\n",
    "inertials = torch.Tensor(np.load(\"./data/advio-01/iphone/inertials.npy\"))\n",
    "labels = torch.Tensor(np.load(\"./data/advio-01/iphone/labels.npy\"))\n",
    "buffer_inertials = torch.Tensor(np.load(\"./data/advio-01/iphone/inertial_buffer.npy\"))\n",
    "\n",
    "train_data = AdvioDataset(frames, inertials, labels, buffer_inertials, \"train\")\n",
    "val_data = AdvioDataset(frames, inertials, labels, buffer_inertials, \"val\")\n",
    "test_data = AdvioDataset(frames, inertials, labels, buffer_inertials, \"test\")\n",
    "\n",
    "del frames\n",
    "del inertials\n",
    "del labels\n",
    "del buffer_inertials\n",
    "\n",
    "params = {'batch_size': BATCH_SIZE,\n",
    "          'num_workers': 6,\n",
    "          'drop_last':True}\n",
    "train_loader = DataLoader(train_data, **params, shuffle=True)\n",
    "val_loader = DataLoader(val_data, **params, shuffle=True)\n",
    "test_loader = DataLoader(test_data, **params)"
   ]
  },
  {
   "attachments": {},
   "cell_type": "markdown",
   "metadata": {},
   "source": [
    "# Model"
   ]
  },
  {
   "cell_type": "code",
   "execution_count": null,
   "metadata": {},
   "outputs": [],
   "source": [
    "def replace_head(model):\n",
    "    n_inputs = model.classifier[0].in_features\n",
    "    classifier = nn.Linear(n_inputs, 100)\n",
    "    model.classifier[0] = classifier\n",
    "\n",
    "    n_inputs = model.classifier[3].in_features\n",
    "    classifier = nn.Linear(100, 3)\n",
    "    model.classifier[3] = classifier\n",
    "    return model"
   ]
  },
  {
   "cell_type": "code",
   "execution_count": 6,
   "metadata": {},
   "outputs": [],
   "source": [
    "class BaselineNet2(nn.Module):\n",
    "    def __init__(self):\n",
    "        super(BaselineNet2, self).__init__()\n",
    "        \n",
    "        self.conv2d_odometry = mobilenet_v3_small(weights=MobileNet_V3_Small_Weights.IMAGENET1K_V1)\n",
    "        self.conv2d_odometry = replace_head(self.conv2d_odometry)\n",
    "\n",
    "    def forward(self, x):\n",
    "        x = self.conv2d_odometry(x)\n",
    "        return x"
   ]
  },
  {
   "cell_type": "code",
   "execution_count": 7,
   "metadata": {},
   "outputs": [],
   "source": [
    "class BaselineNet(nn.Module):\n",
    "    def __init__(self):\n",
    "        super(BaselineNet, self).__init__()\n",
    "        \n",
    "        self.conv2d_odometry = MobileNetV2(num_classes=3)\n",
    "\n",
    "    def forward(self, x):\n",
    "        x = self.conv2d_odometry(x)\n",
    "        return x"
   ]
  },
  {
   "attachments": {},
   "cell_type": "markdown",
   "metadata": {},
   "source": [
    "# Training"
   ]
  },
  {
   "cell_type": "code",
   "execution_count": 8,
   "metadata": {},
   "outputs": [],
   "source": [
    "def normalize(data):\n",
    "  data = data - data.min()\n",
    "  data = data / data.max()\n",
    "  return data"
   ]
  },
  {
   "cell_type": "code",
   "execution_count": 9,
   "metadata": {},
   "outputs": [],
   "source": [
    "def train(model, device, train_loader, optimizer, epoch):\n",
    "    model.train()\n",
    "    history_loss = 0\n",
    "\n",
    "    for batch_idx, (data, _, labels_odometry, _) in enumerate(train_loader):\n",
    "        # data preparation\n",
    "        data = normalize(data)\n",
    "        labels_odometry = labels_odometry.mean(axis=1)\n",
    "        data, labels_odometry = data.to(device), labels_odometry.to(device)\n",
    "\n",
    "        #forward\n",
    "        optimizer.zero_grad()\n",
    "        output = model(data)\n",
    "\n",
    "        # loss\n",
    "        loss = F.mse_loss(output, labels_odometry)\n",
    "\n",
    "        # backward\n",
    "        loss.backward()\n",
    "        optimizer.step()\n",
    "\n",
    "        #stats\n",
    "        history_loss += loss.item()\n",
    "\n",
    "        if batch_idx%60==0:\n",
    "            print(f\"\\t[# {batch_idx: 4}] train_loss: {loss.item():.6f}\")\n",
    "\n",
    "    return history_loss/len(train_loader) # average epoch loss\n"
   ]
  },
  {
   "cell_type": "code",
   "execution_count": 10,
   "metadata": {},
   "outputs": [],
   "source": [
    "def validation(model, device, val_loader, epoch):\n",
    "    model.train()\n",
    "    history_loss=0\n",
    "\n",
    "    for batch_idx, (data, _, labels_odometry, _) in enumerate(val_loader):\n",
    "        # data preparation\n",
    "        data = normalize(data)\n",
    "        labels_odometry = labels_odometry.mean(axis=1)\n",
    "        data, labels_odometry = data.to(device), labels_odometry.to(device)\n",
    "\n",
    "        # forward\n",
    "        output = model(data)\n",
    "\n",
    "        # loss\n",
    "        loss = F.mse_loss(output, labels_odometry)\n",
    "\n",
    "        #stats\n",
    "        history_loss += loss.item()\n",
    "\n",
    "    history_loss /= len(val_loader) # average epoch loss\n",
    "    print(f\"\\tval_loss: {history_loss:.6f}\")\n",
    "\n",
    "    return history_loss\n"
   ]
  },
  {
   "cell_type": "code",
   "execution_count": 11,
   "metadata": {},
   "outputs": [
    {
     "name": "stderr",
     "output_type": "stream",
     "text": [
      "/home/msi/miniconda3/envs/pytorch_gpu_env/lib/python3.10/site-packages/torchvision/models/_utils.py:208: UserWarning: The parameter 'pretrained' is deprecated since 0.13 and may be removed in the future, please use 'weights' instead.\n",
      "  warnings.warn(\n",
      "/home/msi/miniconda3/envs/pytorch_gpu_env/lib/python3.10/site-packages/torchvision/models/_utils.py:223: UserWarning: Arguments other than a weight enum or `None` for 'weights' are deprecated since 0.13 and may be removed in the future. The current behavior is equivalent to passing `weights=MobileNet_V3_Small_Weights.IMAGENET1K_V1`. You can also use `weights=MobileNet_V3_Small_Weights.DEFAULT` to get the most up-to-date weights.\n",
      "  warnings.warn(msg)\n"
     ]
    },
    {
     "name": "stdout",
     "output_type": "stream",
     "text": [
      "Epoch 1/10\n",
      "\t[#    0] train_loss: 6.191634\n",
      "\t[#   60] train_loss: 1.710388\n",
      "\t[#  120] train_loss: 1.234692\n",
      "\t[#  180] train_loss: 0.889865\n",
      "\t[#  240] train_loss: 0.898100\n",
      "\tval_loss: 4.827035\n",
      "Epoch 2/10\n",
      "\t[#    0] train_loss: 1.239745\n",
      "\t[#   60] train_loss: 0.697167\n",
      "\t[#  120] train_loss: 1.025723\n",
      "\t[#  180] train_loss: 0.720781\n",
      "\t[#  240] train_loss: 0.854447\n",
      "\tval_loss: 4.587304\n",
      "Epoch 3/10\n",
      "\t[#    0] train_loss: 0.641386\n",
      "\t[#   60] train_loss: 0.924488\n",
      "\t[#  120] train_loss: 0.587534\n",
      "\t[#  180] train_loss: 0.810265\n",
      "\t[#  240] train_loss: 0.570962\n",
      "\tval_loss: 4.591940\n",
      "Epoch 4/10\n",
      "\t[#    0] train_loss: 0.725937\n",
      "\t[#   60] train_loss: 0.802326\n",
      "\t[#  120] train_loss: 0.707421\n",
      "\t[#  180] train_loss: 0.666935\n",
      "\t[#  240] train_loss: 0.622431\n",
      "\tval_loss: 4.473549\n",
      "Epoch 5/10\n",
      "\t[#    0] train_loss: 0.623026\n",
      "\t[#   60] train_loss: 0.513073\n",
      "\t[#  120] train_loss: 0.703170\n",
      "\t[#  180] train_loss: 0.536927\n",
      "\t[#  240] train_loss: 0.667381\n",
      "\tval_loss: 4.980461\n",
      "Epoch 6/10\n",
      "\t[#    0] train_loss: 0.735830\n",
      "\t[#   60] train_loss: 0.536801\n",
      "\t[#  120] train_loss: 0.533518\n",
      "\t[#  180] train_loss: 0.676289\n",
      "\t[#  240] train_loss: 0.617692\n",
      "\tval_loss: 4.627924\n",
      "Epoch 7/10\n",
      "\t[#    0] train_loss: 0.677071\n",
      "\t[#   60] train_loss: 0.564135\n",
      "\t[#  120] train_loss: 0.614674\n",
      "\t[#  180] train_loss: 0.749409\n",
      "\t[#  240] train_loss: 0.442861\n",
      "\tval_loss: 4.675865\n",
      "Epoch 8/10\n",
      "\t[#    0] train_loss: 0.610953\n",
      "\t[#   60] train_loss: 0.651097\n",
      "\t[#  120] train_loss: 0.634037\n",
      "\t[#  180] train_loss: 0.573876\n",
      "\t[#  240] train_loss: 0.446922\n",
      "\tval_loss: 4.725041\n",
      "Epoch 9/10\n",
      "\t[#    0] train_loss: 0.518612\n",
      "\t[#   60] train_loss: 0.646796\n",
      "\t[#  120] train_loss: 0.582127\n",
      "\t[#  180] train_loss: 0.526613\n",
      "\t[#  240] train_loss: 0.568000\n",
      "\tval_loss: 4.394483\n",
      "Epoch 10/10\n",
      "\t[#    0] train_loss: 0.478505\n",
      "\t[#   60] train_loss: 0.815097\n",
      "\t[#  120] train_loss: 0.467186\n",
      "\t[#  180] train_loss: 0.604585\n",
      "\t[#  240] train_loss: 0.491250\n",
      "\tval_loss: 4.726415\n"
     ]
    }
   ],
   "source": [
    "model = BaselineNet2().to(device)\n",
    "optimizer = optim.Adam(model.parameters(), lr=LR)\n",
    "\n",
    "h_loss_train = []\n",
    "h_loss_val = []\n",
    "\n",
    "for epoch in range(1, EPOCHS + 1):\n",
    "    print(f\"Epoch {epoch}/{EPOCHS}\")\n",
    "\n",
    "    loss_train = train(model, device, train_loader, optimizer, epoch)\n",
    "    loss_val = validation(model, device, val_loader, epoch)\n",
    "\n",
    "    #populating the history of the loss\n",
    "    h_loss_train.append(loss_train)\n",
    "    h_loss_val.append(loss_val)\n",
    "\n",
    "np.savez(f\"train_loss_{EPOCHS}\", h_loss_train)\n",
    "np.savez(f\"val_loss_{EPOCHS}\", h_loss_val)\n"
   ]
  },
  {
   "attachments": {},
   "cell_type": "markdown",
   "metadata": {},
   "source": [
    "# Plotting"
   ]
  },
  {
   "cell_type": "code",
   "execution_count": 16,
   "metadata": {},
   "outputs": [
    {
     "data": {
      "image/png": "[encoded data removed]",
      "text/plain": [
       "<Figure size 640x480 with 1 Axes>"
      ]
     },
     "metadata": {},
     "output_type": "display_data"
    }
   ],
   "source": [
    "plt.plot(h_loss_train, label=\"train\")\n",
    "plt.plot(h_loss_val, label=\"validation\")\n",
    "plt.xlabel(\"Epochs\")\n",
    "plt.ylabel(\"Loss\")\n",
    "plt.legend(loc=\"upper right\")\n",
    "plt.show()"
   ]
  },
  {
   "attachments": {},
   "cell_type": "markdown",
   "metadata": {},
   "source": [
    "### Zoomed plot (last 30 epochs)"
   ]
  },
  {
   "cell_type": "code",
   "execution_count": 13,
   "metadata": {},
   "outputs": [
    {
     "data": {
      "image/png": "[encoded data removed]",
      "text/plain": [
       "<Figure size 640x480 with 1 Axes>"
      ]
     },
     "metadata": {},
     "output_type": "display_data"
    }
   ],
   "source": [
    "plt.plot(np.array(h_loss_train)[-30:], label=\"train\")\n",
    "plt.plot(np.array(h_loss_val)[-30:], label=\"validation\")\n",
    "plt.xlabel(\"Epochs\")\n",
    "plt.ylabel(\"Loss\")\n",
    "plt.legend(loc=\"upper right\")\n",
    "plt.show()"
   ]
  },
  {
   "attachments": {},
   "cell_type": "markdown",
   "metadata": {},
   "source": [
    "## Trajectory plot"
   ]
  },
  {
   "cell_type": "code",
   "execution_count": null,
   "metadata": {},
   "outputs": [],
   "source": [
    "data = np.load(\"./data/advio-01/iphone/labels.npy\")\n",
    "data = data.mean(axis=1)\n",
    "route = np.zeros(data.shape)\n",
    "current_point = np.array([0, 0, 0]).astype(np.float32)\n",
    "\n",
    "for idx, delta in enumerate(data):\n",
    "    delta = delta.astype(np.float32)\n",
    "    #print(f\"({current_point.shape}) {current_point} - ({delta.shape}) {delta}\")\n",
    "    current_point += delta\n",
    "    route[idx, :] = current_point\n",
    "\n",
    "plt.title(\"x-axis movements\")\n",
    "plt.xlabel(\"Timesteps\")\n",
    "plt.plot(route[:, 0])\n",
    "plt.show()\n",
    "\n",
    "plt.title(\"y-axis movements\")\n",
    "plt.xlabel(\"Timesteps\")\n",
    "plt.plot(route[:, 1])\n",
    "plt.show()\n",
    "\n",
    "plt.title(\"z-axis movements\")\n",
    "plt.xlabel(\"Timesteps\")\n",
    "plt.plot(route[:, 2])\n",
    "plt.show()"
   ]
  }
 ],
 "metadata": {
  "kernelspec": {
   "display_name": "pytorch_gpu_env",
   "language": "python",
   "name": "python3"
  },
  "language_info": {
   "codemirror_mode": {
    "name": "ipython",
    "version": 3
   },
   "file_extension": ".py",
   "mimetype": "text/x-python",
   "name": "python",
   "nbconvert_exporter": "python",
   "pygments_lexer": "ipython3",
   "version": "3.10.9"
  },
  "orig_nbformat": 4,
  "vscode": {
   "interpreter": {
    "hash": "2a60a9521ac24e310983a613c26989eaf1fc2b3e1d7e934fda12fd60cebe70c9"
   }
  }
 },
 "nbformat": 4,
 "nbformat_minor": 2
}
