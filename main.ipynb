{
 "cells": [
  {
   "attachments": {},
   "cell_type": "markdown",
   "metadata": {},
   "source": [
    "# Almost Visual Inertial Odometry"
   ]
  },
  {
   "attachments": {},
   "cell_type": "markdown",
   "metadata": {},
   "source": [
    "# Imports"
   ]
  },
  {
   "cell_type": "code",
   "execution_count": 3,
   "metadata": {},
   "outputs": [],
   "source": [
    "import torch\n",
    "import torch.nn as nn\n",
    "import torch.nn.functional as F\n",
    "import torch.optim as optim\n",
    "from torchvision import datasets, transforms\n",
    "from torch.optim.lr_scheduler import StepLR\n",
    "from torch.utils.data import DataLoader\n",
    "from tqdm import tqdm\n",
    "import matplotlib.pyplot as plt"
   ]
  },
  {
   "attachments": {},
   "cell_type": "markdown",
   "metadata": {},
   "source": [
    "# Constants"
   ]
  },
  {
   "cell_type": "code",
   "execution_count": null,
   "metadata": {},
   "outputs": [],
   "source": [
    "SEED = 20197\n",
    "BATCH_SIZE = 16\n",
    "TEST_BATCH_SIZE = 32\n",
    "GAMMA = 0.1   # torch default\n",
    "LR=0.001 \n",
    "EPOCHS = 50"
   ]
  },
  {
   "attachments": {},
   "cell_type": "markdown",
   "metadata": {},
   "source": [
    "# Device"
   ]
  },
  {
   "cell_type": "code",
   "execution_count": null,
   "metadata": {},
   "outputs": [],
   "source": [
    "available_cuda = torch.cuda.is_available()\n",
    "print(f\"Available cuda: {available_cuda}\")\n",
    "\n",
    "device = torch.device(\"cuda\" if available_cuda else \"cpu\")"
   ]
  },
  {
   "attachments": {},
   "cell_type": "markdown",
   "metadata": {},
   "source": [
    "# Dataset"
   ]
  },
  {
   "cell_type": "code",
   "execution_count": null,
   "metadata": {},
   "outputs": [],
   "source": [
    "class Dataset(torch.utils.data.Dataset):\n",
    "      def __init__(self, images, labels):\n",
    "            self.labels = labels\n",
    "            self.images = images\n",
    "\n",
    "      def __len__(self):\n",
    "            return len(self.images)\n",
    "\n",
    "      def __getitem__(self, index):\n",
    "            image_name = self.images[index]\n",
    "\n",
    "            X = torch.load('data/' + image_name + '.png')\n",
    "            y = self.labels[image_name]\n",
    "\n",
    "            return X, y"
   ]
  },
  {
   "attachments": {},
   "cell_type": "markdown",
   "metadata": {},
   "source": [
    "# Model"
   ]
  },
  {
   "cell_type": "code",
   "execution_count": null,
   "metadata": {},
   "outputs": [],
   "source": [
    "class Net(nn.Module):\n",
    "    def __init__(self):\n",
    "        pass\n",
    "\n",
    "    def forward(self, x):\n",
    "        pass"
   ]
  },
  {
   "attachments": {},
   "cell_type": "markdown",
   "metadata": {},
   "source": [
    "# Training"
   ]
  },
  {
   "cell_type": "code",
   "execution_count": null,
   "metadata": {},
   "outputs": [],
   "source": [
    "def train(model, device, train_loader, optimizer, epoch):\n",
    "    model.train()\n",
    "    \n",
    "    for batch_idx, (data, target) in enumerate(dataset):\n",
    "        # data preparation\n",
    "        data, target = data.to(device), target.to(device)\n",
    "\n",
    "        #forward\n",
    "        optimizer.zero_grad()\n",
    "        output = model(data)\n",
    "\n",
    "        # loss\n",
    "        loss = torch.sqrt(F.mse_loss(output, data))\n",
    "\n",
    "        # backward\n",
    "        loss.backward()\n",
    "        optimizer.step()\n",
    "\n",
    "        #stats\n",
    "        history_loss += loss.item()\n",
    "\n",
    "    return history_loss/(len(train_loader.dataset)/BATCH_SIZE) # average epoch loss\n"
   ]
  },
  {
   "cell_type": "code",
   "execution_count": null,
   "metadata": {},
   "outputs": [],
   "source": [
    "def test(model, device, train_loader, optimizer, epoch):\n",
    "    model.train()\n",
    "    \n",
    "    for batch_idx, (data, target) in enumerate(dataset):\n",
    "        # data preparation\n",
    "        data, target = data.to(device), target.to(device)\n",
    "\n",
    "        # forward\n",
    "        optimizer.zero_grad()\n",
    "        output = model(data)\n",
    "\n",
    "        # loss\n",
    "        loss = torch.sqrt(F.mse_loss(output, data))\n",
    "\n",
    "        #stats\n",
    "        history_loss += loss.item()\n",
    "\n",
    "    return history_loss/(len(train_loader.dataset)/BATCH_SIZE) # average epoch loss\n"
   ]
  },
  {
   "cell_type": "code",
   "execution_count": null,
   "metadata": {},
   "outputs": [],
   "source": [
    "model = Net().to(device)\n",
    "optimizer = optim.Adam(model.parameters(), lr=LR)\n",
    "\n",
    "h_loss_train = []\n",
    "h_loss_test = []\n",
    "\n",
    "for epoch in range(1, EPOCHS + 1):\n",
    "    print(f\"Epoch {epoch}/{EPOCHS}\")\n",
    "\n",
    "    loss_train = train(model, device, train_loader, optimizer, epoch)\n",
    "    loss_test, data, output, embedded_code = test(model, device, test_loader)\n",
    "\n",
    "    #populating the history of the loss\n",
    "    h_loss_train.append(loss_train)\n",
    "    h_loss_test.append(loss_test)"
   ]
  },
  {
   "attachments": {},
   "cell_type": "markdown",
   "metadata": {},
   "source": [
    "# Plotting"
   ]
  },
  {
   "cell_type": "markdown",
   "metadata": {},
   "source": []
  }
 ],
 "metadata": {
  "kernelspec": {
   "display_name": "dai-rl",
   "language": "python",
   "name": "python3"
  },
  "language_info": {
   "codemirror_mode": {
    "name": "ipython",
    "version": 3
   },
   "file_extension": ".py",
   "mimetype": "text/x-python",
   "name": "python",
   "nbconvert_exporter": "python",
   "pygments_lexer": "ipython3",
   "version": "3.10.4 | packaged by conda-forge | (main, Mar 24 2022, 17:38:57) [GCC 10.3.0]"
  },
  "orig_nbformat": 4,
  "vscode": {
   "interpreter": {
    "hash": "6764ddc561f0985f1497ca7c49e21e4a6b67cad4ef7418ea1219e15848fb9358"
   }
  }
 },
 "nbformat": 4,
 "nbformat_minor": 2
}
