{
 "cells": [
  {
   "attachments": {},
   "cell_type": "markdown",
   "metadata": {},
   "source": [
    "# Almost Visual Inertial Odometry"
   ]
  },
  {
   "attachments": {},
   "cell_type": "markdown",
   "metadata": {},
   "source": [
    "# Imports"
   ]
  },
  {
   "cell_type": "code",
   "execution_count": 66,
   "metadata": {},
   "outputs": [],
   "source": [
    "import torch\n",
    "import torch.nn as nn\n",
    "import torch.nn.functional as F\n",
    "import torch.optim as optim\n",
    "from torchvision import datasets, transforms\n",
    "from torch.optim.lr_scheduler import StepLR\n",
    "from torch.utils.data import DataLoader\n",
    "from tqdm import tqdm\n",
    "from  matplotlib import pyplot as plt\n",
    "from matplotlib.image import imread\n",
    "import pandas as pd\n",
    "import numpy as np"
   ]
  },
  {
   "attachments": {},
   "cell_type": "markdown",
   "metadata": {},
   "source": [
    "# Constants"
   ]
  },
  {
   "cell_type": "code",
   "execution_count": 2,
   "metadata": {},
   "outputs": [],
   "source": [
    "SEED = 20197\n",
    "BATCH_SIZE = 16\n",
    "TEST_BATCH_SIZE = 32\n",
    "GAMMA = 0.1   # torch default\n",
    "LR=0.001 \n",
    "EPOCHS = 50"
   ]
  },
  {
   "attachments": {},
   "cell_type": "markdown",
   "metadata": {},
   "source": [
    "# Device"
   ]
  },
  {
   "cell_type": "code",
   "execution_count": 14,
   "metadata": {},
   "outputs": [
    {
     "name": "stdout",
     "output_type": "stream",
     "text": [
      "Available cuda: False\n"
     ]
    }
   ],
   "source": [
    "available_cuda = torch.cuda.is_available()\n",
    "print(f\"Available cuda: {available_cuda}\")\n",
    "\n",
    "device = torch.device(\"cuda\" if available_cuda else \"cpu\")"
   ]
  },
  {
   "attachments": {},
   "cell_type": "markdown",
   "metadata": {},
   "source": [
    "# Dataset"
   ]
  },
  {
   "cell_type": "code",
   "execution_count": null,
   "metadata": {},
   "outputs": [],
   "source": [
    "class AdvioDataset(torch.utils.data.Dataset):\n",
    "      def __init__(self, path_frames, path_frames_folder, path_inertials, path_labels):\n",
    "            self.path_frames_folder = path_frames_folder\n",
    "            self.path_labels = path_labels\n",
    "            self.path_inertials = path_inertials\n",
    "            self.df_frames = pd.read_csv(path_frames)\n",
    "\n",
    "      def __len__(self):\n",
    "            return len(self.df_frames) - 1\n",
    "\n",
    "      def __getitem__(self, index):\n",
    "\n",
    "            # load sample of frames\n",
    "            image_name = self.path_frames_folder + self.df_frames.iloc[index, 1]\n",
    "            frame = imread(image_name)\n",
    "            frame = torch.Tensor(frame)\n",
    "\n",
    "            image_name_next = self.path_frames_folder + self.df_frames.iloc[index+1, 1]\n",
    "            frame_next = imread(image_name_next)\n",
    "            frame_next = torch.Tensor(frame_next)\n",
    "\n",
    "            sample_frame = frame_next - frame\n",
    "\n",
    "            # TODO build buffer sample of inertials\n",
    "            sample_inertials = \"\"\n",
    "\n",
    "            # load labels\n",
    "            label_odometry = np.load(self.path_labels + f\"{self.df_frames.iloc[index, 0]}.npy\")\n",
    "            label_odometry = torch.Tensor(label_odometry)\n",
    "\n",
    "            # load inertials\n",
    "            label_inertial = np.load(self.path_inertials + f\"{self.df_frames.iloc[index, 0]}.npy\")\n",
    "            label_inertial = torch.Tensor(label_inertial)\n",
    "\n",
    "            return sample_frame, label_odometry, label_inertial\n",
    "\n",
    "\n",
    "path_frames = \"./data/advio-01/iphone/frames_synced.csv\"\n",
    "path_frames_folder = \"./data/advio-01/iphone/frames/\"\n",
    "path_inertials = \"./data/advio-01/iphone/inertials/\"\n",
    "path_labels = \"./data/advio-01/iphone/labels/\"\n",
    "\n",
    "train_data = AdvioDataset(path_frames, path_frames_folder, path_inertials, path_labels)\n",
    "\n",
    "params = {'batch_size': 32,\n",
    "          'shuffle': True,\n",
    "          'num_workers': 3}\n",
    "train_gen = torch.utils.data.DataLoader(train_data, **params)"
   ]
  },
  {
   "attachments": {},
   "cell_type": "markdown",
   "metadata": {},
   "source": [
    "# Model"
   ]
  },
  {
   "cell_type": "code",
   "execution_count": null,
   "metadata": {},
   "outputs": [],
   "source": [
    "class Net(nn.Module):\n",
    "    def __init__(self):\n",
    "        pass\n",
    "\n",
    "    def forward(self, x):\n",
    "        pass"
   ]
  },
  {
   "attachments": {},
   "cell_type": "markdown",
   "metadata": {},
   "source": [
    "# Training"
   ]
  },
  {
   "cell_type": "code",
   "execution_count": null,
   "metadata": {},
   "outputs": [],
   "source": [
    "def train(model, device, train_loader, optimizer, epoch):\n",
    "    model.train()\n",
    "    \n",
    "    for batch_idx, (data, target) in enumerate(dataset):\n",
    "        # data preparation\n",
    "        data, target = data.to(device), target.to(device)\n",
    "\n",
    "        #forward\n",
    "        optimizer.zero_grad()\n",
    "        output = model(data)\n",
    "\n",
    "        # loss\n",
    "        loss = torch.sqrt(F.mse_loss(output, data))\n",
    "\n",
    "        # backward\n",
    "        loss.backward()\n",
    "        optimizer.step()\n",
    "\n",
    "        #stats\n",
    "        history_loss += loss.item()\n",
    "\n",
    "    return history_loss/(len(train_loader.dataset)/BATCH_SIZE) # average epoch loss\n"
   ]
  },
  {
   "cell_type": "code",
   "execution_count": null,
   "metadata": {},
   "outputs": [],
   "source": [
    "def test(model, device, train_loader, optimizer, epoch):\n",
    "    model.train()\n",
    "    \n",
    "    for batch_idx, (data, target) in enumerate(dataset):\n",
    "        # data preparation\n",
    "        data, target = data.to(device), target.to(device)\n",
    "\n",
    "        # forward\n",
    "        optimizer.zero_grad()\n",
    "        output = model(data)\n",
    "\n",
    "        # loss\n",
    "        loss = torch.sqrt(F.mse_loss(output, data))\n",
    "\n",
    "        #stats\n",
    "        history_loss += loss.item()\n",
    "\n",
    "    return history_loss/(len(train_loader.dataset)/BATCH_SIZE) # average epoch loss\n"
   ]
  },
  {
   "cell_type": "code",
   "execution_count": null,
   "metadata": {},
   "outputs": [],
   "source": [
    "model = Net().to(device)\n",
    "optimizer = optim.Adam(model.parameters(), lr=LR)\n",
    "\n",
    "h_loss_train = []\n",
    "h_loss_test = []\n",
    "\n",
    "for epoch in range(1, EPOCHS + 1):\n",
    "    print(f\"Epoch {epoch}/{EPOCHS}\")\n",
    "\n",
    "    loss_train = train(model, device, train_loader, optimizer, epoch)\n",
    "    loss_test, data, output, embedded_code = test(model, device, test_loader)\n",
    "\n",
    "    #populating the history of the loss\n",
    "    h_loss_train.append(loss_train)\n",
    "    h_loss_test.append(loss_test)"
   ]
  },
  {
   "attachments": {},
   "cell_type": "markdown",
   "metadata": {},
   "source": [
    "# Plotting"
   ]
  },
  {
   "cell_type": "markdown",
   "metadata": {},
   "source": []
  }
 ],
 "metadata": {
  "kernelspec": {
   "display_name": "dai-rl",
   "language": "python",
   "name": "python3"
  },
  "language_info": {
   "codemirror_mode": {
    "name": "ipython",
    "version": 3
   },
   "file_extension": ".py",
   "mimetype": "text/x-python",
   "name": "python",
   "nbconvert_exporter": "python",
   "pygments_lexer": "ipython3",
   "version": "3.10.4"
  },
  "orig_nbformat": 4,
  "vscode": {
   "interpreter": {
    "hash": "6764ddc561f0985f1497ca7c49e21e4a6b67cad4ef7418ea1219e15848fb9358"
   }
  }
 },
 "nbformat": 4,
 "nbformat_minor": 2
}
