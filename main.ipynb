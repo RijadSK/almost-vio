{
 "cells": [
  {
   "attachments": {},
   "cell_type": "markdown",
   "metadata": {},
   "source": [
    "# Almost Visual Inertial Odometry"
   ]
  },
  {
   "attachments": {},
   "cell_type": "markdown",
   "metadata": {},
   "source": [
    "# Imports"
   ]
  },
  {
   "cell_type": "code",
   "execution_count": 15,
   "metadata": {},
   "outputs": [],
   "source": [
    "import torch\n",
    "import torch.nn as nn\n",
    "import torch.nn.functional as F\n",
    "import torch.optim as optim\n",
    "from torchvision import datasets, transforms\n",
    "from torchvision.models import MobileNetV2\n",
    "from torch.optim.lr_scheduler import StepLR\n",
    "from torch.utils.data import DataLoader\n",
    "from tqdm import tqdm\n",
    "from  matplotlib import pyplot as plt\n",
    "from matplotlib.image import imread\n",
    "import pandas as pd\n",
    "import numpy as np"
   ]
  },
  {
   "attachments": {},
   "cell_type": "markdown",
   "metadata": {},
   "source": [
    "# Constants"
   ]
  },
  {
   "cell_type": "code",
   "execution_count": 2,
   "metadata": {},
   "outputs": [],
   "source": [
    "SEED = 20197\n",
    "BATCH_SIZE = 16\n",
    "TEST_BATCH_SIZE = 32\n",
    "GAMMA = 0.1   # torch default\n",
    "LR=0.001 \n",
    "EPOCHS = 50"
   ]
  },
  {
   "attachments": {},
   "cell_type": "markdown",
   "metadata": {},
   "source": [
    "# Device"
   ]
  },
  {
   "cell_type": "code",
   "execution_count": 3,
   "metadata": {},
   "outputs": [
    {
     "name": "stdout",
     "output_type": "stream",
     "text": [
      "Available cuda: False\n"
     ]
    }
   ],
   "source": [
    "available_cuda = torch.cuda.is_available()\n",
    "print(f\"Available cuda: {available_cuda}\")\n",
    "\n",
    "device = torch.device(\"cuda\" if available_cuda else \"cpu\")"
   ]
  },
  {
   "attachments": {},
   "cell_type": "markdown",
   "metadata": {},
   "source": [
    "# Dataset"
   ]
  },
  {
   "cell_type": "code",
   "execution_count": 62,
   "metadata": {},
   "outputs": [],
   "source": [
    "class AdvioDataset(torch.utils.data.Dataset):\n",
    "      def __init__(self, path_frames, path_frames_folder, path_inertials, path_labels):\n",
    "            self.path_frames_folder = path_frames_folder\n",
    "            self.path_labels = path_labels\n",
    "            self.path_inertials = path_inertials\n",
    "            self.df_frames = pd.read_csv(path_frames)\n",
    "\n",
    "      def __len__(self):\n",
    "            return len(self.df_frames) - 1\n",
    "\n",
    "      def __getitem__(self, index):\n",
    "\n",
    "            # load sample of frames\n",
    "            image_name = self.path_frames_folder + self.df_frames.iloc[index, 1]\n",
    "            frame = imread(image_name)\n",
    "            frame = torch.Tensor(frame)\n",
    "            frame = torch.moveaxis(frame, -1, 0)\n",
    "\n",
    "            image_name_next = self.path_frames_folder + self.df_frames.iloc[index+1, 1]\n",
    "            frame_next = imread(image_name_next)\n",
    "            frame_next = torch.Tensor(frame_next)\n",
    "            frame_next = torch.moveaxis(frame_next, -1, 0)\n",
    "\n",
    "            sample_frame = frame_next - frame\n",
    "\n",
    "            # TODO build buffer sample of inertials\n",
    "            sample_inertials = \"\"\n",
    "\n",
    "            # load labels\n",
    "            label_odometry = np.load(self.path_labels + f\"{self.df_frames.iloc[index, 0]}.npy\")\n",
    "            label_odometry = torch.Tensor(label_odometry)\n",
    "\n",
    "            # load inertials\n",
    "            label_inertial = np.load(self.path_inertials + f\"{self.df_frames.iloc[index, 0]}.npy\")\n",
    "            label_inertial = torch.Tensor(label_inertial)\n",
    "\n",
    "            return sample_frame, label_odometry, label_inertial\n",
    "\n",
    "\n",
    "path_frames = \"./data/advio-01/iphone/frames_synced.csv\"\n",
    "path_frames_folder = \"./data/advio-01/iphone/frames/\"\n",
    "path_inertials = \"./data/advio-01/iphone/inertials/\"\n",
    "path_labels = \"./data/advio-01/iphone/labels/\"\n",
    "\n",
    "train_data = AdvioDataset(path_frames, path_frames_folder, path_inertials, path_labels)\n",
    "\n",
    "params = {'batch_size': BATCH_SIZE,\n",
    "          'shuffle': True,\n",
    "          'num_workers': 3,\n",
    "          'drop_last':True}\n",
    "train_loader = torch.utils.data.DataLoader(train_data, **params)"
   ]
  },
  {
   "cell_type": "code",
   "execution_count": 63,
   "metadata": {},
   "outputs": [
    {
     "name": "stdout",
     "output_type": "stream",
     "text": [
      "torch.Size([16, 3, 224, 224])\n"
     ]
    }
   ],
   "source": [
    "for idx, (sample, label_odometry, _) in enumerate(train_loader):\n",
    "    label_odometry = label_odometry.mean(axis=1)\n",
    "    print(sample.shape)\n",
    "\n",
    "    break"
   ]
  },
  {
   "attachments": {},
   "cell_type": "markdown",
   "metadata": {},
   "source": [
    "# Model"
   ]
  },
  {
   "cell_type": "code",
   "execution_count": 42,
   "metadata": {},
   "outputs": [],
   "source": [
    "class Net(nn.Module):\n",
    "    def __init__(self):\n",
    "        super(Net, self).__init__()\n",
    "        \n",
    "        self.conv2d_odometry = MobileNetV2(num_classes=3)\n",
    "\n",
    "    def forward(self, x):\n",
    "        x = self.conv2d_odometry(x)\n",
    "        return x"
   ]
  },
  {
   "attachments": {},
   "cell_type": "markdown",
   "metadata": {},
   "source": [
    "# Training"
   ]
  },
  {
   "cell_type": "code",
   "execution_count": 34,
   "metadata": {},
   "outputs": [],
   "source": [
    "def normalize(data):\n",
    "  data = data - data.min()\n",
    "  data = data / data.max()\n",
    "  return data"
   ]
  },
  {
   "cell_type": "code",
   "execution_count": 59,
   "metadata": {},
   "outputs": [],
   "source": [
    "def train(model, device, train_loader, optimizer, epoch):\n",
    "    model.train()\n",
    "    history_loss = 0\n",
    "\n",
    "    for batch_idx, (data, labels_odometry, _) in enumerate(train_loader):\n",
    "        # data preparation\n",
    "        data = normalize(data)\n",
    "        labels_odometry = labels_odometry.mean(axis=1)\n",
    "        data, labels_odometry = data.to(device), labels_odometry.to(device)\n",
    "\n",
    "        #forward\n",
    "        optimizer.zero_grad()\n",
    "        output = model(data)\n",
    "\n",
    "        # loss\n",
    "        loss = F.mse_loss(output, label_odometry)\n",
    "\n",
    "        # backward\n",
    "        loss.backward()\n",
    "        optimizer.step()\n",
    "\n",
    "        #stats\n",
    "        history_loss += loss.item()\n",
    "\n",
    "        if batch_idx%100==0:\n",
    "            print(f\"\\t[# {batch_idx}] loss: {loss.item()}\")\n",
    "\n",
    "    return history_loss/(len(train_loader)/BATCH_SIZE) # average epoch loss\n"
   ]
  },
  {
   "cell_type": "code",
   "execution_count": 60,
   "metadata": {},
   "outputs": [],
   "source": [
    "def test(model, device, test_loader, optimizer, epoch):\n",
    "    model.train()\n",
    "    \n",
    "    for batch_idx, (data, target) in enumerate(test_loader):\n",
    "        # data preparation\n",
    "        data, target = data.to(device), target.to(device)\n",
    "\n",
    "        # forward\n",
    "        optimizer.zero_grad()\n",
    "        output = model(data)\n",
    "\n",
    "        # loss\n",
    "        loss = torch.sqrt(F.mse_loss(output, data))\n",
    "\n",
    "        #stats\n",
    "        history_loss += loss.item()\n",
    "\n",
    "    return history_loss/(len(test_loader.dataset)/BATCH_SIZE) # average epoch loss\n"
   ]
  },
  {
   "cell_type": "code",
   "execution_count": 64,
   "metadata": {},
   "outputs": [
    {
     "name": "stdout",
     "output_type": "stream",
     "text": [
      "Epoch 1/50\n",
      "\t[# 0] loss: 0.04536519572138786\n",
      "\t[# 100] loss: 0.003761247731745243\n",
      "\t[# 200] loss: 0.0021978402510285378\n",
      "\t[# 300] loss: 0.0025940833147615194\n",
      "\t[# 400] loss: 0.0004290762299206108\n",
      "\t[# 500] loss: 0.001128656673245132\n",
      "\t[# 600] loss: 0.0003063115291297436\n",
      "\t[# 700] loss: 0.00010401711915619671\n",
      "\t[# 800] loss: 0.00030234953737817705\n"
     ]
    },
    {
     "ename": "AttributeError",
     "evalue": "'DataLoader' object has no attribute 'train'",
     "output_type": "error",
     "traceback": [
      "\u001b[0;31m---------------------------------------------------------------------------\u001b[0m",
      "\u001b[0;31mAttributeError\u001b[0m                            Traceback (most recent call last)",
      "Cell \u001b[0;32mIn[64], line 10\u001b[0m\n\u001b[1;32m      7\u001b[0m \u001b[39mfor\u001b[39;00m epoch \u001b[39min\u001b[39;00m \u001b[39mrange\u001b[39m(\u001b[39m1\u001b[39m, EPOCHS \u001b[39m+\u001b[39m \u001b[39m1\u001b[39m):\n\u001b[1;32m      8\u001b[0m     \u001b[39mprint\u001b[39m(\u001b[39mf\u001b[39m\u001b[39m\"\u001b[39m\u001b[39mEpoch \u001b[39m\u001b[39m{\u001b[39;00mepoch\u001b[39m}\u001b[39;00m\u001b[39m/\u001b[39m\u001b[39m{\u001b[39;00mEPOCHS\u001b[39m}\u001b[39;00m\u001b[39m\"\u001b[39m)\n\u001b[0;32m---> 10\u001b[0m     loss_train \u001b[39m=\u001b[39m train(model, device, train_loader, optimizer, epoch)\n\u001b[1;32m     11\u001b[0m     \u001b[39m#loss_test, data, output, embedded_code = test(model, device, test_loader)\u001b[39;00m\n\u001b[1;32m     12\u001b[0m \n\u001b[1;32m     13\u001b[0m     \u001b[39m#populating the history of the loss\u001b[39;00m\n\u001b[1;32m     14\u001b[0m     h_loss_train\u001b[39m.\u001b[39mappend(loss_train)\n",
      "Cell \u001b[0;32mIn[59], line 28\u001b[0m, in \u001b[0;36mtrain\u001b[0;34m(model, device, train_loader, optimizer, epoch)\u001b[0m\n\u001b[1;32m     25\u001b[0m     \u001b[39mif\u001b[39;00m batch_idx\u001b[39m%\u001b[39m\u001b[39m100\u001b[39m\u001b[39m==\u001b[39m\u001b[39m0\u001b[39m:\n\u001b[1;32m     26\u001b[0m         \u001b[39mprint\u001b[39m(\u001b[39mf\u001b[39m\u001b[39m\"\u001b[39m\u001b[39m\\t\u001b[39;00m\u001b[39m[# \u001b[39m\u001b[39m{\u001b[39;00mbatch_idx\u001b[39m}\u001b[39;00m\u001b[39m] loss: \u001b[39m\u001b[39m{\u001b[39;00mloss\u001b[39m.\u001b[39mitem()\u001b[39m}\u001b[39;00m\u001b[39m\"\u001b[39m)\n\u001b[0;32m---> 28\u001b[0m \u001b[39mreturn\u001b[39;00m history_loss\u001b[39m/\u001b[39m(\u001b[39mlen\u001b[39m(train_loader\u001b[39m.\u001b[39;49mtrain)\u001b[39m/\u001b[39mBATCH_SIZE)\n",
      "\u001b[0;31mAttributeError\u001b[0m: 'DataLoader' object has no attribute 'train'"
     ]
    }
   ],
   "source": [
    "model = Net().to(device)\n",
    "optimizer = optim.Adam(model.parameters(), lr=LR)\n",
    "\n",
    "h_loss_train = []\n",
    "h_loss_test = []\n",
    "\n",
    "for epoch in range(1, EPOCHS + 1):\n",
    "    print(f\"Epoch {epoch}/{EPOCHS}\")\n",
    "\n",
    "    loss_train = train(model, device, train_loader, optimizer, epoch)\n",
    "    #loss_test, data, output, embedded_code = test(model, device, test_loader)\n",
    "\n",
    "    #populating the history of the loss\n",
    "    h_loss_train.append(loss_train)\n",
    "    #h_loss_test.append(loss_test)"
   ]
  },
  {
   "attachments": {},
   "cell_type": "markdown",
   "metadata": {},
   "source": [
    "# Plotting"
   ]
  },
  {
   "cell_type": "markdown",
   "metadata": {},
   "source": []
  }
 ],
 "metadata": {
  "kernelspec": {
   "display_name": "dai-rl",
   "language": "python",
   "name": "python3"
  },
  "language_info": {
   "codemirror_mode": {
    "name": "ipython",
    "version": 3
   },
   "file_extension": ".py",
   "mimetype": "text/x-python",
   "name": "python",
   "nbconvert_exporter": "python",
   "pygments_lexer": "ipython3",
   "version": "3.10.4"
  },
  "orig_nbformat": 4,
  "vscode": {
   "interpreter": {
    "hash": "6764ddc561f0985f1497ca7c49e21e4a6b67cad4ef7418ea1219e15848fb9358"
   }
  }
 },
 "nbformat": 4,
 "nbformat_minor": 2
}
